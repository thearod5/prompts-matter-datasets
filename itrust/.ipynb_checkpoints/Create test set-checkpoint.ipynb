{
 "cells": [
  {
   "cell_type": "code",
   "execution_count": 3,
   "id": "88faccf2",
   "metadata": {},
   "outputs": [],
   "source": [
    "import pandas as pd"
   ]
  },
  {
   "cell_type": "code",
   "execution_count": 4,
   "id": "6e07a01e",
   "metadata": {},
   "outputs": [],
   "source": [
    "source_df = pd.read_csv(\"source.csv\")\n",
    "target_df = pd.read_csv(\"code.csv\")\n",
    "traces_df = pd.read_csv(\"traces.csv\")"
   ]
  },
  {
   "cell_type": "code",
   "execution_count": 3,
   "id": "8ffcb9c4",
   "metadata": {},
   "outputs": [],
   "source": [
    "source_df = source_df.sample(n=2)\n",
    "traces_df = traces_df[traces_df[\"source\"].isin(source_df[\"id\"])]\n",
    "target_df = target_df[target_df[\"id\"].isin(traces_df[\"target\"])]"
   ]
  },
  {
   "cell_type": "code",
   "execution_count": 4,
   "id": "527e5c87",
   "metadata": {},
   "outputs": [],
   "source": [
    "source_df.to_csv(\"test/source.csv\", index=False)\n",
    "target_df.to_csv(\"test/target.csv\", index=False)\n",
    "traces_df.to_csv(\"test/traces.csv\", index=False)"
   ]
  },
  {
   "cell_type": "code",
   "execution_count": 6,
   "id": "3020ba3a",
   "metadata": {},
   "outputs": [
    {
     "name": "stdout",
     "output_type": "stream",
     "text": [
      "Sources: 2\n",
      "Targets: 34\n",
      "Candidates: 68\n",
      "Traces: 36\n"
     ]
    }
   ],
   "source": [
    "print(f\"Sources: {len(source_df)}\")\n",
    "print(f\"Targets: {len(target_df)}\")\n",
    "print(f\"Candidates: {len(source_df) * len(target_df)}\")\n",
    "print(f\"Traces: {len(traces_df)}\")"
   ]
  },
  {
   "cell_type": "code",
   "execution_count": null,
   "id": "6320a0b3",
   "metadata": {},
   "outputs": [],
   "source": []
  }
 ],
 "metadata": {
  "kernelspec": {
   "display_name": "Python 3 (ipykernel)",
   "language": "python",
   "name": "python3"
  },
  "language_info": {
   "codemirror_mode": {
    "name": "ipython",
    "version": 3
   },
   "file_extension": ".py",
   "mimetype": "text/x-python",
   "name": "python",
   "nbconvert_exporter": "python",
   "pygments_lexer": "ipython3",
   "version": "3.9.13"
  }
 },
 "nbformat": 4,
 "nbformat_minor": 5
}
